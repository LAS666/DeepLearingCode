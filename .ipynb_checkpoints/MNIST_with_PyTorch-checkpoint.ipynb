{
 "cells": [
  {
   "cell_type": "markdown",
   "metadata": {
    "colab_type": "text",
    "id": "view-in-github"
   },
   "source": [
    "<a href=\"https://colab.research.google.com/github/masalha-alaa/mnist-pytorch/blob/master/MNIST_with_PyTorch.ipynb\" target=\"_parent\"><img src=\"https://colab.research.google.com/assets/colab-badge.svg\" alt=\"Open In Colab\"/></a>"
   ]
  },
  {
   "cell_type": "code",
   "execution_count": 1,
   "metadata": {
    "id": "HlaIywn-Qco0"
   },
   "outputs": [],
   "source": [
    "import torch\n",
    "import torchvision\n",
    "import torch.nn as nn\n",
    "import torch.optim as optim\n",
    "import torch.nn.functional as F\n",
    "from torch.utils.data import DataLoader\n",
    "import torchvision.datasets as datasets\n",
    "import torchvision.transforms as transforms\n",
    "import torch.utils.data as data_utils\n",
    "\n",
    "from PIL import Image\n",
    "import matplotlib.pyplot as plt\n",
    "\n",
    "import numpy as np"
   ]
  },
  {
   "cell_type": "code",
   "execution_count": 2,
   "metadata": {
    "colab": {
     "base_uri": "https://localhost:8080/"
    },
    "id": "W-rTWyS-6ZzI",
    "outputId": "882fb700-2ba5-4460-d397-dc492dbf4de5"
   },
   "outputs": [
    {
     "name": "stdout",
     "output_type": "stream",
     "text": [
      "Running on cpu\n"
     ]
    }
   ],
   "source": [
    "# Use GPU if available\n",
    "\n",
    "device = 'cuda' if torch.cuda.is_available() else 'cpu'\n",
    "print(f'Running on {device}')"
   ]
  },
  {
   "cell_type": "markdown",
   "metadata": {
    "id": "Oztht7ryQsOt"
   },
   "source": [
    "# Load the dataset"
   ]
  },
  {
   "cell_type": "code",
   "execution_count": 3,
   "metadata": {
    "id": "62OOdx40QklO"
   },
   "outputs": [],
   "source": [
    "batch_size = 64\n",
    "\n",
    "# training + validation dataset\n",
    "training_set_full = datasets.MNIST('dataset/', train=True, transform=transforms.ToTensor(), download=True)\n",
    "\n",
    "# test dataset\n",
    "test_set = datasets.MNIST('dataset/', train=False, transform=transforms.ToTensor(), download=True)"
   ]
  },
  {
   "cell_type": "markdown",
   "metadata": {
    "id": "oA53K3TG7VC8"
   },
   "source": [
    "##Peek at the data"
   ]
  },
  {
   "cell_type": "code",
   "execution_count": 4,
   "metadata": {
    "colab": {
     "base_uri": "https://localhost:8080/"
    },
    "id": "T_-lB4ap7WgQ",
    "outputId": "7623c500-0971-4ebe-be69-d9dcccb56b7e"
   },
   "outputs": [
    {
     "name": "stdout",
     "output_type": "stream",
     "text": [
      "Training data: 60000, Sample structure: (<class 'torch.Tensor'> torch.Size([1, 28, 28]), <class 'int'>)\n",
      "Test data: 10000, Sample structure: (<class 'torch.Tensor'> torch.Size([1, 28, 28]), <class 'int'>)\n"
     ]
    }
   ],
   "source": [
    "SAMPLE_IMG_ID = 0\n",
    "\n",
    "print(f'Training data: {len(training_set_full)}, Sample structure: ({type(training_set_full[SAMPLE_IMG_ID][0])} {training_set_full[SAMPLE_IMG_ID][0].shape}, {type(training_set_full[SAMPLE_IMG_ID][1])})')\n",
    "print(f'Test data: {len(test_set)}, Sample structure: ({type(test_set[SAMPLE_IMG_ID][0])} {test_set[SAMPLE_IMG_ID][0].shape}, {type(test_set[SAMPLE_IMG_ID][1])})')"
   ]
  },
  {
   "cell_type": "code",
   "execution_count": 5,
   "metadata": {
    "id": "5tIi_GAaF7Z-"
   },
   "outputs": [],
   "source": [
    "IMAGE_SHAPE = training_set_full[0][0].shape[1], training_set_full[0][0].shape[2]\n",
    "classes = np.unique([t[1] for t in training_set_full])\n",
    "NUM_CLASSES = len(classes)"
   ]
  },
  {
   "cell_type": "code",
   "execution_count": 6,
   "metadata": {
    "colab": {
     "base_uri": "https://localhost:8080/"
    },
    "id": "xPKpDr8YGS6O",
    "outputId": "6af78648-1bea-4538-b194-f815c0a75540"
   },
   "outputs": [
    {
     "name": "stdout",
     "output_type": "stream",
     "text": [
      "Classes: [0 1 2 3 4 5 6 7 8 9]\n"
     ]
    }
   ],
   "source": [
    "print(f'Classes: {classes}')"
   ]
  },
  {
   "cell_type": "markdown",
   "metadata": {
    "id": "WEnwZ72AvPFs"
   },
   "source": [
    "## Split to train / validation / test"
   ]
  },
  {
   "cell_type": "code",
   "execution_count": 7,
   "metadata": {
    "colab": {
     "base_uri": "https://localhost:8080/"
    },
    "id": "DXicX97wvNvm",
    "outputId": "cfc48690-72f3-41ca-e516-60434523a116"
   },
   "outputs": [
    {
     "name": "stdout",
     "output_type": "stream",
     "text": [
      "Data size after splitting to train / validation / test:\n",
      "Training data: 54000, Sample structure: (<class 'torch.Tensor'> torch.Size([1, 28, 28]), <class 'int'>)\n",
      "Validation data: 6000, Sample structure: (<class 'torch.Tensor'> torch.Size([1, 28, 28]), <class 'int'>)\n",
      "Test data: 10000, Sample structure: (<class 'torch.Tensor'> torch.Size([1, 28, 28]), <class 'int'>)\n"
     ]
    }
   ],
   "source": [
    "VALIDATION_FRAC = 0.1\n",
    "\n",
    "np.random.seed(42)\n",
    "shuffled_idx = np.random.choice(len(training_set_full), len(training_set_full), replace=False)\n",
    "validation_set = data_utils.Subset(training_set_full, shuffled_idx[:int(len(training_set_full) * 0.1)])\n",
    "training_set = data_utils.Subset(training_set_full, shuffled_idx[int(len(training_set_full) * 0.1):])\n",
    "\n",
    "print('Data size after splitting to train / validation / test:')\n",
    "print(f'Training data: {len(training_set)}, Sample structure: ({type(training_set[SAMPLE_IMG_ID][0])} {training_set[SAMPLE_IMG_ID][0].shape}, {type(training_set[SAMPLE_IMG_ID][1])})')\n",
    "print(f'Validation data: {len(validation_set)}, Sample structure: ({type(validation_set[SAMPLE_IMG_ID][0])} {validation_set[SAMPLE_IMG_ID][0].shape}, {type(validation_set[SAMPLE_IMG_ID][1])})')\n",
    "print(f'Test data: {len(test_set)}, Sample structure: ({type(test_set[SAMPLE_IMG_ID][0])} {test_set[SAMPLE_IMG_ID][0].shape}, {type(test_set[SAMPLE_IMG_ID][1])})')\n",
    "\n",
    "training_loader = DataLoader(dataset=training_set, batch_size=batch_size, shuffle=True)\n",
    "test_loader = DataLoader(dataset=test_set, batch_size=batch_size, shuffle=True)\n",
    "validation_loader = DataLoader(dataset=validation_set, batch_size=batch_size, shuffle=False)"
   ]
  },
  {
   "cell_type": "markdown",
   "metadata": {
    "id": "avmLX3sM6v2g"
   },
   "source": [
    "##Visualize the data"
   ]
  },
  {
   "cell_type": "code",
   "execution_count": 8,
   "metadata": {
    "colab": {
     "base_uri": "https://localhost:8080/",
     "height": 281
    },
    "id": "jlB_xriT6vDB",
    "outputId": "cc57adf2-8ec3-44dd-8b94-6e5ce6ec9e8e"
   },
   "outputs": [
    {
     "data": {
      "image/png": "[encoded data removed]",
      "text/plain": [
       "<Figure size 432x288 with 1 Axes>"
      ]
     },
     "metadata": {
      "needs_background": "light"
     },
     "output_type": "display_data"
    }
   ],
   "source": [
    "SAMPLE_IMG_ID = np.random.choice(len(training_set))\n",
    "\n",
    "junk = plt.imshow(training_set[SAMPLE_IMG_ID][0].squeeze(0), cmap='gray')  # \"squeeze\" removes the first dimension (1,28,28) => (28,28)\n",
    "junk = plt.title(training_set[SAMPLE_IMG_ID][1])"
   ]
  },
  {
   "cell_type": "markdown",
   "metadata": {
    "id": "AwBijfbSSkvE"
   },
   "source": [
    "# Model"
   ]
  },
  {
   "cell_type": "code",
   "execution_count": 10,
   "metadata": {
    "id": "ZCI8UvXzSi0C"
   },
   "outputs": [],
   "source": [
    "class SimpleNeuralNetwork(nn.Module):\n",
    "    def __init__(self, input_size, classes):\n",
    "        super().__init__()\n",
    "        # layer 1\n",
    "        self.fc1 = nn.Linear(input_size, 50)\n",
    "        # layer 2\n",
    "        self.fc2 = nn.Linear(50, classes)\n",
    "\n",
    "    def forward(self, x):\n",
    "        # run x through the layers and activation functions\n",
    "        # (relu activation function is just max(0, x))\n",
    "        x = F.relu(self.fc1(x))\n",
    "        # normally there's no activation function on last layer (except softmax etc. when needed)\n",
    "        x = self.fc2(x)\n",
    "\n",
    "        return x\n",
    "\n",
    "model = SimpleNeuralNetwork(np.product(IMAGE_SHAPE), NUM_CLASSES)\n",
    "model.to(device)\n",
    "optimizer = optim.Adam(model.parameters(), lr=0.001)\n",
    "loss_function = nn.CrossEntropyLoss()"
   ]
  },
  {
   "cell_type": "code",
   "execution_count": 11,
   "metadata": {
    "id": "8hXqcCoH9X2q"
   },
   "outputs": [],
   "source": [
    "def evaluate(model, loss_function, X, y):\n",
    "    # flatten the data from (batch_size, W, H) to (batch_size, W*H) because pytorch models require 1 dimensional samples, and run model.\n",
    "    predictions = model(X.reshape(X.shape[0], -1))  # Module class implements the __call__ method. that's why this class instance is callable although it's not a function.\n",
    "                                                    # its __call__ method simply calls our forward() method.\n",
    "    \n",
    "    loss = loss_function(predictions, y)\n",
    "    predictions = predictions.argmax(dim=1).cpu().numpy()\n",
    "    acc = (predictions == y.cpu().numpy()).mean()\n",
    "    return predictions, acc, loss"
   ]
  },
  {
   "cell_type": "markdown",
   "metadata": {
    "id": "13tpzn3_HBCM"
   },
   "source": [
    "## Training"
   ]
  },
  {
   "cell_type": "code",
   "execution_count": 12,
   "metadata": {
    "colab": {
     "base_uri": "https://localhost:8080/"
    },
    "id": "vBhWogA_HAVA",
    "outputId": "dd992b51-20bf-42c9-915c-eab08ca3db38"
   },
   "outputs": [
    {
     "name": "stdout",
     "output_type": "stream",
     "text": [
      "Epoch 1\n",
      "Training acc: 0.06, Training loss: 2.30, Validation acc: 0.12, Validation loss: 2.28\n",
      "Training acc: 0.72, Training loss: 1.25, Validation acc: 0.85, Validation loss: 0.64\n",
      "Training acc: 0.87, Training loss: 0.52, Validation acc: 0.89, Validation loss: 0.43\n",
      "Training acc: 0.89, Training loss: 0.40, Validation acc: 0.90, Validation loss: 0.36\n",
      "Training acc: 0.90, Training loss: 0.35, Validation acc: 0.90, Validation loss: 0.34\n",
      "Training acc: 0.91, Training loss: 0.33, Validation acc: 0.91, Validation loss: 0.32\n",
      "Training acc: 0.91, Training loss: 0.32, Validation acc: 0.92, Validation loss: 0.29\n",
      "Training acc: 0.92, Training loss: 0.30, Validation acc: 0.92, Validation loss: 0.27\n",
      "Training acc: 0.92, Training loss: 0.28, Validation acc: 0.93, Validation loss: 0.27\n",
      "Training acc: 0.92, Training loss: 0.27, Validation acc: 0.93, Validation loss: 0.25\n",
      "Training acc: 0.93, Training loss: 0.25, Validation acc: 0.93, Validation loss: 0.25\n",
      "Epoch 2\n",
      "Training acc: 0.92, Training loss: 0.20, Validation acc: 0.93, Validation loss: 0.24\n",
      "Training acc: 0.93, Training loss: 0.26, Validation acc: 0.93, Validation loss: 0.24\n",
      "Training acc: 0.93, Training loss: 0.24, Validation acc: 0.94, Validation loss: 0.23\n",
      "Training acc: 0.93, Training loss: 0.24, Validation acc: 0.94, Validation loss: 0.22\n",
      "Training acc: 0.93, Training loss: 0.24, Validation acc: 0.94, Validation loss: 0.22\n",
      "Training acc: 0.94, Training loss: 0.22, Validation acc: 0.94, Validation loss: 0.22\n",
      "Training acc: 0.94, Training loss: 0.22, Validation acc: 0.94, Validation loss: 0.21\n",
      "Training acc: 0.94, Training loss: 0.21, Validation acc: 0.94, Validation loss: 0.20\n",
      "Training acc: 0.94, Training loss: 0.21, Validation acc: 0.94, Validation loss: 0.20\n",
      "Training acc: 0.94, Training loss: 0.19, Validation acc: 0.95, Validation loss: 0.19\n",
      "Training acc: 0.95, Training loss: 0.19, Validation acc: 0.95, Validation loss: 0.18\n",
      "Epoch 3\n",
      "Training acc: 0.97, Training loss: 0.09, Validation acc: 0.94, Validation loss: 0.18\n",
      "Training acc: 0.95, Training loss: 0.18, Validation acc: 0.95, Validation loss: 0.18\n",
      "Training acc: 0.94, Training loss: 0.19, Validation acc: 0.95, Validation loss: 0.18\n",
      "Training acc: 0.95, Training loss: 0.17, Validation acc: 0.94, Validation loss: 0.18\n",
      "Training acc: 0.95, Training loss: 0.17, Validation acc: 0.95, Validation loss: 0.17\n",
      "Training acc: 0.95, Training loss: 0.18, Validation acc: 0.95, Validation loss: 0.17\n",
      "Training acc: 0.95, Training loss: 0.16, Validation acc: 0.95, Validation loss: 0.17\n",
      "Training acc: 0.95, Training loss: 0.17, Validation acc: 0.96, Validation loss: 0.16\n",
      "Training acc: 0.95, Training loss: 0.17, Validation acc: 0.95, Validation loss: 0.16\n",
      "Training acc: 0.96, Training loss: 0.17, Validation acc: 0.96, Validation loss: 0.16\n",
      "Training acc: 0.96, Training loss: 0.15, Validation acc: 0.96, Validation loss: 0.16\n",
      "Epoch 4\n",
      "Training acc: 0.94, Training loss: 0.20, Validation acc: 0.96, Validation loss: 0.15\n",
      "Training acc: 0.96, Training loss: 0.14, Validation acc: 0.96, Validation loss: 0.15\n",
      "Training acc: 0.96, Training loss: 0.14, Validation acc: 0.96, Validation loss: 0.14\n",
      "Training acc: 0.96, Training loss: 0.14, Validation acc: 0.96, Validation loss: 0.14\n",
      "Training acc: 0.96, Training loss: 0.14, Validation acc: 0.96, Validation loss: 0.15\n",
      "Training acc: 0.96, Training loss: 0.14, Validation acc: 0.96, Validation loss: 0.13\n",
      "Training acc: 0.96, Training loss: 0.13, Validation acc: 0.96, Validation loss: 0.14\n",
      "Training acc: 0.96, Training loss: 0.13, Validation acc: 0.96, Validation loss: 0.13\n",
      "Training acc: 0.96, Training loss: 0.13, Validation acc: 0.96, Validation loss: 0.13\n",
      "Training acc: 0.96, Training loss: 0.13, Validation acc: 0.96, Validation loss: 0.13\n",
      "Training acc: 0.96, Training loss: 0.14, Validation acc: 0.96, Validation loss: 0.13\n",
      "0.01 accuracy change. Early stopping...\n"
     ]
    }
   ],
   "source": [
    "EPOCHS = 7\n",
    "EVALUATION_FREQ = len(training_set) // batch_size // 10  # guarantee 10 evaluations per epoch\n",
    "\n",
    "model.train(mode=True)  # just puts the model in training mode (doesn't actually train)\n",
    "\n",
    "training_acc_lst, training_loss_lst = [], []\n",
    "validation_acc_lst, validation_loss_lst = [], []\n",
    "epochs_acc = []\n",
    "for epoch in range(EPOCHS):\n",
    "    print(f'Epoch {epoch + 1}')\n",
    "    epoch_acc = []\n",
    "    training_acc_checkpoint, training_loss_checkpoint = [], []\n",
    "    for batch_idx, (data, labels) in enumerate(training_loader):\n",
    "        # cast to device (cpu / gpu) (gpu for faster op). also both need to be on same device.\n",
    "        data, labels = data.to(device), labels.to(device)\n",
    "        \n",
    "        # run model on data to get predictions.\n",
    "        # as we saw earlier, training_set[i][0] is of shape (1,28,28),\n",
    "        # that means data is of shape (batch_size, 1, 28, 28),\n",
    "        # but pytorch models require each sample to be 1 dimensional, so we need to flatten the data to (batch_size, 28*28) (done in evaluate())\n",
    "        predictions, acc, loss = evaluate(model, loss_function, data, labels)\n",
    "        training_acc_checkpoint.append(acc)\n",
    "        epoch_acc.append(acc)\n",
    "\n",
    "        # loss already calculated in the evaluate() call. just append it\n",
    "        training_loss_checkpoint.append(loss.item())\n",
    "        \n",
    "        # back propagation (calculate the gradient)\n",
    "        loss.backward()\n",
    "\n",
    "        # gradient descent (adjust the weights)\n",
    "        optimizer.step()\n",
    "\n",
    "        # default behavior of pytorch is to NOT clear the gradients after every step.\n",
    "        # but we need to clear them to prevent accumulation of gradients throughout iterations.\n",
    "        optimizer.zero_grad()  # or model.zero_grad() if all the model's parameters are in the optimizer (in our case they are)\n",
    "\n",
    "        # evaluate on validation\n",
    "        if batch_idx % EVALUATION_FREQ == 0:\n",
    "            # average training acc and loss every EVALUATION_FREQ, so our training and validation plots axes will have the same length\n",
    "            training_acc_lst.append(np.mean(training_acc_checkpoint))\n",
    "            training_loss_lst.append(np.mean(training_loss_checkpoint))\n",
    "            # restart checkpoints\n",
    "            training_acc_checkpoint, training_loss_checkpoint = [], []\n",
    "\n",
    "            # predict validation data, but first disable gradient tracking, and enter evaluation mode\n",
    "            model.train(mode=False)  # enter eval mode. suggested here: https://stackoverflow.com/a/55627781/900394\n",
    "            with torch.no_grad():  # locally disable gradient tracking\n",
    "                validation_acc_checkpoint, validation_loss_checkpoint = [], []\n",
    "                validation_predictions = []  # saved for showing results later\n",
    "                for val_batch_idx, (val_data, val_labels) in enumerate(validation_loader):\n",
    "                    val_data, val_labels = val_data.to(device), val_labels.to(device)\n",
    "\n",
    "                    val_predictions, validation_acc, validation_loss = evaluate(model, loss_function, val_data, val_labels)\n",
    "                    \n",
    "                    validation_loss_checkpoint.append(validation_loss.item())\n",
    "                    validation_acc_checkpoint.append(validation_acc)\n",
    "                    validation_predictions.extend(val_predictions)  # predictions are for a complete batch, so we need to \"extend\" not \"append\"\n",
    "                \n",
    "                validation_acc_lst.append(np.mean(validation_acc_checkpoint))\n",
    "                validation_loss_lst.append(np.mean(validation_loss_checkpoint))\n",
    "            \n",
    "            print(f'Training acc: {training_acc_lst[-1]:.2f}, Training loss: {training_loss_lst[-1]:.2f}, Validation acc: {validation_acc_lst[-1]:.2f}, Validation loss: {validation_loss_lst[-1]:.2f}')\n",
    "\n",
    "            model.train(mode=True)  # re-enter training mode\n",
    "\n",
    "    # epoch end\n",
    "    epochs_acc.append(np.mean(epoch_acc))\n",
    "    # early stopping according to accuracy\n",
    "    # TODO: allow K consecutive and / or take validation acc into account\n",
    "    if len(epochs_acc) > 1 and epochs_acc[-1] - epochs_acc[-2] < 0.01:\n",
    "        print(f'{epochs_acc[-1] - epochs_acc[-2]:.2f} accuracy change. Early stopping...')\n",
    "        break\n",
    "\n",
    "junk = model.train(mode=False)  # exit training mode"
   ]
  },
  {
   "cell_type": "markdown",
   "metadata": {
    "id": "q2KnqE8pWYP1"
   },
   "source": [
    "# Plot results"
   ]
  },
  {
   "cell_type": "code",
   "execution_count": 13,
   "metadata": {
    "colab": {
     "base_uri": "https://localhost:8080/",
     "height": 299
    },
    "id": "_Nvk9wGyWV1v",
    "outputId": "09ec55dd-feb0-48f2-8d89-c39723ed3813"
   },
   "outputs": [
    {
     "data": {
      "image/png": "[encoded data removed]",
      "text/plain": [
       "<Figure size 2160x720 with 2 Axes>"
      ]
     },
     "metadata": {
      "needs_background": "light"
     },
     "output_type": "display_data"
    }
   ],
   "source": [
    "plot_checkpoints = (0, None)  # None to plot to the end\n",
    "plt.figure(figsize=(30, 10))\n",
    "        \n",
    "# accuracy\n",
    "plt.subplot(2,4,1)\n",
    "plt.ylim(0,1.1)\n",
    "plt.plot(range(len(validation_acc_lst[plot_checkpoints[0]:plot_checkpoints[1]])), validation_acc_lst[plot_checkpoints[0]:plot_checkpoints[1]])\n",
    "plt.plot(range(len(training_acc_lst[plot_checkpoints[0]:plot_checkpoints[1]])), training_acc_lst[plot_checkpoints[0]:plot_checkpoints[1]])\n",
    "plt.legend(['val acc', 'training acc'])\n",
    "\n",
    "# loss\n",
    "plt.subplot(2,4,2)\n",
    "plt.ylim(0,1)\n",
    "plt.plot(range(len(validation_loss_lst[plot_checkpoints[0]:plot_checkpoints[1]])), validation_loss_lst[plot_checkpoints[0]:plot_checkpoints[1]])\n",
    "plt.plot(range(len(training_loss_lst[plot_checkpoints[0]:plot_checkpoints[1]])), training_loss_lst[plot_checkpoints[0]:plot_checkpoints[1]])\n",
    "plt.legend(['val loss', 'training loss'])\n",
    "\n",
    "plt.show()"
   ]
  },
  {
   "cell_type": "markdown",
   "metadata": {
    "id": "3rmXrJdRXvp6"
   },
   "source": [
    "# Visualize validation results"
   ]
  },
  {
   "cell_type": "code",
   "execution_count": 14,
   "metadata": {
    "colab": {
     "base_uri": "https://localhost:8080/",
     "height": 287
    },
    "id": "idkx8dhJXu3V",
    "outputId": "c4d92043-a1f1-4a82-899e-6668503e543c"
   },
   "outputs": [
    {
     "data": {
      "image/png": "[encoded data removed]",
      "text/plain": [
       "<Figure size 576x360 with 10 Axes>"
      ]
     },
     "metadata": {
      "needs_background": "light"
     },
     "output_type": "display_data"
    }
   ],
   "source": [
    "DRAW_IMGS = 10\n",
    "\n",
    "# visualize validation results\n",
    "fig = plt.figure(figsize=(8, 5))\n",
    "fig.tight_layout()\n",
    "show_imgs_idx = np.random.choice(len(validation_set), DRAW_IMGS, replace=False)\n",
    "for i, (val_test_sample, val_test_label) in enumerate(data_utils.Subset(validation_set, show_imgs_idx)):\n",
    "    plt.subplot(2, DRAW_IMGS // 2, i+1)\n",
    "    plt.title(f'Actual: {val_test_label}\\nPredicted: {validation_predictions[show_imgs_idx[i]]}')\n",
    "    plt.axis('off')\n",
    "    validation_img = val_test_sample.cpu().numpy()\n",
    "    plt.imshow(validation_img.squeeze(0), cmap='gray')  # \"squeeze\" removes the first dimension (1,28,28) => (28,28)"
   ]
  },
  {
   "cell_type": "markdown",
   "metadata": {
    "id": "Bp5jSTErlJXS"
   },
   "source": [
    "# Testing"
   ]
  },
  {
   "cell_type": "code",
   "execution_count": 15,
   "metadata": {
    "colab": {
     "base_uri": "https://localhost:8080/"
    },
    "id": "6JDQIxGElIn_",
    "outputId": "4e9b2fb3-4b56-4a86-f4e6-4430d122c61c"
   },
   "outputs": [
    {
     "name": "stdout",
     "output_type": "stream",
     "text": [
      "Accuracy: 0.96, Loss: 0.14\n"
     ]
    }
   ],
   "source": [
    "model.train(False)  # ensure we're in eval mode\n",
    "\n",
    "test_loss = []\n",
    "test_acc = []\n",
    "for X,y in test_loader:\n",
    "    with torch.no_grad():\n",
    "        X, y = X.to(device), y.to(device)\n",
    "        predictions = model(X.reshape(X.shape[0], -1))\n",
    "\n",
    "        loss = loss_function(predictions, y)\n",
    "        test_loss.append(loss.item())\n",
    "\n",
    "        test_acc.append((predictions.argmax(dim=1).cpu().numpy() == y.cpu().numpy()).mean())\n",
    "\n",
    "print(f'Accuracy: {np.mean(test_acc):.2f}, Loss: {np.mean(test_loss):.2f}')"
   ]
  },
  {
   "cell_type": "code",
   "execution_count": null,
   "metadata": {},
   "outputs": [],
   "source": []
  },
  {
   "cell_type": "code",
   "execution_count": null,
   "metadata": {},
   "outputs": [],
   "source": []
  }
 ],
 "metadata": {
  "accelerator": "GPU",
  "colab": {
   "authorship_tag": "ABX9TyNnBmj4mfota/HWhAVscF0i",
   "include_colab_link": true,
   "name": "MNIST with PyTorch.ipynb",
   "provenance": []
  },
  "kernelspec": {
   "display_name": "Python 3 (ipykernel)",
   "language": "python",
   "name": "python3"
  },
  "language_info": {
   "codemirror_mode": {
    "name": "ipython",
    "version": 3
   },
   "file_extension": ".py",
   "mimetype": "text/x-python",
   "name": "python",
   "nbconvert_exporter": "python",
   "pygments_lexer": "ipython3",
   "version": "3.8.10"
  }
 },
 "nbformat": 4,
 "nbformat_minor": 4
}
